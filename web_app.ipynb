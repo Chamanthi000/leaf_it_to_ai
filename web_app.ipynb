{
  "cells": [
    {
      "cell_type": "code",
      "execution_count": 9,
      "metadata": {
        "id": "kPhxY15b-F3p"
      },
      "outputs": [],
      "source": [
        "# import saved Resnet\n",
        "!pip install gradio\n",
        "!pip install fastbook\n"
      ]
    },
    {
      "cell_type": "code",
      "execution_count": null,
      "metadata": {},
      "outputs": [],
      "source": [
        "# import fastai libraries\n",
        "\n",
        "from fastai.vision.all import *\n",
        "from fastai.data.all import *\n",
        "import matplotlib.pyplot as plt \n",
        "from fastai import *"
      ]
    },
    {
      "cell_type": "code",
      "execution_count": null,
      "metadata": {},
      "outputs": [],
      "source": [
        "# load pkl file\n",
        "\n",
        "learn = load_learner('/content/drive/MyDrive/capstone/model_resnet.pkl')"
      ]
    },
    {
      "cell_type": "code",
      "execution_count": 10,
      "metadata": {
        "id": "iPoCm3YCA33l"
      },
      "outputs": [],
      "source": [
        "# save labels of the model\n",
        "\n",
        "labels = learn.dls.vocab"
      ]
    },
    {
      "cell_type": "code",
      "execution_count": null,
      "metadata": {
        "id": "d3jQbxP3nsm1"
      },
      "outputs": [],
      "source": [
        "# define a predict function to predict the disease of any image by automatic resizing \n",
        "\n",
        "def predict(img):\n",
        "    img = PILImage.create(img)\n",
        "    img=img.resize((128,128))\n",
        "    pred,pred_idx,probs = learn.predict(img)\n",
        "    return {labels[i]: float(probs[i]) for i in range(len(labels))}"
      ]
    },
    {
      "cell_type": "code",
      "execution_count": 13,
      "metadata": {
        "colab": {
          "base_uri": "https://localhost:8080/",
          "height": 816
        },
        "id": "Ev1kanS8BCEV",
        "outputId": "80d10eb0-6ee0-46ee-9b3e-4a8e8d6eccc2"
      },
      "outputs": [
        {
          "name": "stderr",
          "output_type": "stream",
          "text": [
            "/usr/local/lib/python3.9/dist-packages/gradio/inputs.py:257: UserWarning: Usage of gradio.inputs is deprecated, and will not be supported in the future, please import your component from gradio.components\n",
            "  warnings.warn(\n",
            "/usr/local/lib/python3.9/dist-packages/gradio/deprecation.py:40: UserWarning: `optional` parameter is deprecated, and it has no effect\n",
            "  warnings.warn(value)\n",
            "/usr/local/lib/python3.9/dist-packages/gradio/outputs.py:197: UserWarning: Usage of gradio.outputs is deprecated, and will not be supported in the future, please import your components from gradio.components\n",
            "  warnings.warn(\n",
            "/usr/local/lib/python3.9/dist-packages/gradio/deprecation.py:40: UserWarning: The 'type' parameter has been deprecated. Use the Number component instead.\n",
            "  warnings.warn(value)\n",
            "/usr/local/lib/python3.9/dist-packages/gradio/deprecation.py:40: UserWarning: `enable_queue` is deprecated in `Interface()`, please use it within `launch()` instead.\n",
            "  warnings.warn(value)\n"
          ]
        },
        {
          "name": "stdout",
          "output_type": "stream",
          "text": [
            "Colab notebook detected. To show errors in colab notebook, set debug=True in launch()\n",
            "Note: opening Chrome Inspector may crash demo inside Colab notebooks.\n",
            "\n",
            "To create a public link, set `share=True` in `launch()`.\n"
          ]
        },
        {
          "data": {
            "application/javascript": "(async (port, path, width, height, cache, element) => {\n                        if (!google.colab.kernel.accessAllowed && !cache) {\n                            return;\n                        }\n                        element.appendChild(document.createTextNode(''));\n                        const url = await google.colab.kernel.proxyPort(port, {cache});\n\n                        const external_link = document.createElement('div');\n                        external_link.innerHTML = `\n                            <div style=\"font-family: monospace; margin-bottom: 0.5rem\">\n                                Running on <a href=${new URL(path, url).toString()} target=\"_blank\">\n                                    https://localhost:${port}${path}\n                                </a>\n                            </div>\n                        `;\n                        element.appendChild(external_link);\n\n                        const iframe = document.createElement('iframe');\n                        iframe.src = new URL(path, url).toString();\n                        iframe.height = height;\n                        iframe.allow = \"autoplay; camera; microphone; clipboard-read; clipboard-write;\"\n                        iframe.width = width;\n                        iframe.style.border = 0;\n                        element.appendChild(iframe);\n                    })(7860, \"/\", \"100%\", 500, false, window.element)",
            "text/plain": [
              "<IPython.core.display.Javascript object>"
            ]
          },
          "metadata": {},
          "output_type": "display_data"
        },
        {
          "data": {
            "text/plain": []
          },
          "execution_count": 13,
          "metadata": {},
          "output_type": "execute_result"
        }
      ],
      "source": [
        "# web app launch\n",
        "\n",
        "import gradio as gr\n",
        "import skimage\n",
        "title = \"Leaf it for AI\"\n",
        "description = \"A leaf disease multi-labelled classifier trained on the Plant Pathology dataset with fastai. Created as a demo for Gradio and HuggingFace Spaces.\"\n",
        "\n",
        "interpretation='default'\n",
        "enable_queue=True\n",
        "examples=[\"/content/drive/MyDrive/capstone/test1.jpg\",\"/content/drive/MyDrive/capstone/test2.jpg\",\"/content/drive/MyDrive/capstone/test3.jpg\"]\n",
        "# export\n",
        "gr.Interface(fn=predict,inputs=gr.inputs.Image(shape=(128, 128)),\n",
        "             outputs=gr.outputs.Label(num_top_classes=7),\n",
        "             title=title,description=description,interpretation=interpretation,\n",
        "             enable_queue=enable_queue,examples=examples).launch()"
      ]
    },
    {
      "cell_type": "code",
      "execution_count": null,
      "metadata": {
        "id": "uUQTCd073gPx"
      },
      "outputs": [],
      "source": [
        "# ref- https://github.com/fastai/fastbook/blob/master/06_multicat.ipynb"
      ]
    }
  ],
  "metadata": {
    "colab": {
      "provenance": []
    },
    "gpuClass": "standard",
    "kernelspec": {
      "display_name": "Python 3",
      "name": "python3"
    },
    "language_info": {
      "name": "python"
    }
  },
  "nbformat": 4,
  "nbformat_minor": 0
}
